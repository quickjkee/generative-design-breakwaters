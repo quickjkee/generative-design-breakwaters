{
 "cells": [
  {
   "cell_type": "markdown",
   "metadata": {},
   "source": [
    "This notebook gives simple and fast computable example of our work. We will consider two evolutionary optimization procceses with a very small population size so that this example is accessible to any computational capacity. \n",
    "\n",
    "## Let's start!\n",
    "\n",
    "\n",
    "First optimization will consist of first and third block of our proposed approach, that is, without exploration phase (in paper it is called baseline). Second optimization is proposed approach with surrogate model, but we will take the prepared weights obtained during the experiment presented in the paper (so as not to waste time on training models)."
   ]
  },
  {
   "cell_type": "code",
   "execution_count": 1,
   "metadata": {},
   "outputs": [
    {
     "name": "stderr",
     "output_type": "stream",
     "text": [
      "C:\\Users\\jkee2\\anaconda3\\lib\\site-packages\\sklearn\\linear_model\\_ridge.py:187: LinAlgWarning: Ill-conditioned matrix (rcond=6.72588e-17): result may not be accurate.\n",
      "  dual_coef = linalg.solve(K, y, sym_pos=True,\n"
     ]
    }
   ],
   "source": [
    "#Import the required libraries\n",
    "import numpy as np\n",
    "import pickle\n",
    "import matplotlib\n",
    "\n",
    "\"\"\"\n",
    "We need to import domain settings contained in constraints, our optimizer,\n",
    "objective functions, surrogate and real models.\n",
    "Also, we will add visualization.\n",
    "\"\"\"\n",
    "import constraints\n",
    "from spea2 import SPEA2_optimizer\n",
    "from models.get_models import Surrogate, RealModel\n",
    "from models.surrogate_models import deep_conv_net, assistant_net\n",
    "from objectives import cost, wave_h\n",
    "from visualization import plot_map"
   ]
  },
  {
   "cell_type": "code",
   "execution_count": 6,
   "metadata": {},
   "outputs": [],
   "source": [
    "\"\"\"\n",
    "Thats our domain settings,\n",
    "x - width of acquatory\n",
    "y - length of acquatory\n",
    "Z - bathymetry\n",
    "\"\"\"\n",
    "\n",
    "x = constraints.x\n",
    "y = constraints.y\n",
    "X, Y = np.meshgrid(x, y)\n",
    "Z = constraints.Z\n",
    "\n",
    "matplotlib.use('tkagg')\n",
    "plot_map(X, Y, Z, np.random.randint(low = np.min(X),\n",
    "                                    high = np.max(X),\n",
    "                                    size = (1,4)))"
   ]
  },
  {
   "cell_type": "code",
   "execution_count": 3,
   "metadata": {},
   "outputs": [
    {
     "name": "stderr",
     "output_type": "stream",
     "text": [
      "C:\\Users\\jkee2\\AppData\\Local\\Temp/ipykernel_7984/3375218673.py:2: UserWarning: Matplotlib is currently using agg, which is a non-GUI backend, so cannot show the figure.\n",
      "  matplotlib.pyplot.show()\n"
     ]
    }
   ],
   "source": [
    "matplotlib.use('tkagg')\n",
    "matplotlib.pyplot.scatter(1,2)\n",
    "matplotlib.pyplot.show()"
   ]
  },
  {
   "cell_type": "code",
   "execution_count": null,
   "metadata": {},
   "outputs": [],
   "source": []
  }
 ],
 "metadata": {
  "interpreter": {
   "hash": "996bf29a7e003859c9b095c1d81a804648e50a533147ae4ebd523a6bc6094922"
  },
  "kernelspec": {
   "display_name": "Python 3 (ipykernel)",
   "language": "python",
   "name": "python3"
  },
  "language_info": {
   "codemirror_mode": {
    "name": "ipython",
    "version": 3
   },
   "file_extension": ".py",
   "mimetype": "text/x-python",
   "name": "python",
   "nbconvert_exporter": "python",
   "pygments_lexer": "ipython3",
   "version": "3.9.7"
  }
 },
 "nbformat": 4,
 "nbformat_minor": 2
}
